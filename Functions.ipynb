{
 "cells": [
  {
   "attachments": {},
   "cell_type": "markdown",
   "metadata": {},
   "source": [
    "### Data Cleaning"
   ]
  },
  {
   "cell_type": "code",
   "execution_count": 9,
   "metadata": {},
   "outputs": [],
   "source": [
    "# This function is designed to fill null values in a column with the mode of that column\n",
    "def fun_mode_fill_null(df, column_name):\n",
    "    # First calculate the mode value of a string\n",
    "    mode_value = df[column_name].astype(str).mode()[0]\n",
    "    # Then fill the null values with the mode value\n",
    "    df[column_name].fillna(mode_value, inplace=True)\n",
    "    return df"
   ]
  },
  {
   "cell_type": "code",
   "execution_count": 10,
   "metadata": {},
   "outputs": [],
   "source": [
    "# This function is designed to fill null values in a column with the median of that column\n",
    "def fun_median_fill_null(df, column_name):\n",
    "    # First calculate the median value of a float\n",
    "    median_value = df[column_name].astype(float).median()\n",
    "    # Then fill the null values with the median value\n",
    "    df[column_name].fillna(value = median_value, inplace=True)\n",
    "    return df"
   ]
  },
  {
   "cell_type": "code",
   "execution_count": 11,
   "metadata": {},
   "outputs": [],
   "source": [
    "# This function is designed to fill null values in a column with the median of that column, with the added benefit of removing figures that block propoer execution\n",
    "def fun_median_fill_null_prob(df, column_name, problem):\n",
    "    # First calculate, remove the troublsome figure, then convert to float, then calculate the median\n",
    "    median_value = df[column_name].str.replace(problem, '').astype(float).median()\n",
    "    # Then fill the null values with the median value\n",
    "    df[column_name].fillna(median_value, inplace=True)\n",
    "    return df"
   ]
  },
  {
   "cell_type": "code",
   "execution_count": 12,
   "metadata": {},
   "outputs": [],
   "source": [
    "# This function is designed to detect the number of duplicate values in a column\n",
    "def fun_duplicate_count(df, columnname):\n",
    "    # First check if there are any duplicated values in a column\n",
    "    dupli_count = [df.duplicated(subset = columnname)]\n",
    "    # Then print how many are present\n",
    "    print(len(dupli_count))"
   ]
  },
  {
   "cell_type": "code",
   "execution_count": 13,
   "metadata": {},
   "outputs": [],
   "source": [
    "# This function is designed to drop duplicate values in a column\n",
    "def fun_duplicates_drop(df, column_name):\n",
    "    # Use the drop_duplicates method in a column, then retain the 1st duplicate in that column, then ensure the drop is permanent\n",
    "    df.drop_duplicates(subset=[column_name], keep='first', inplace=True)\n",
    "    return df"
   ]
  },
  {
   "cell_type": "code",
   "execution_count": 14,
   "metadata": {},
   "outputs": [],
   "source": [
    "# This function is designed to replace values in a column with other values from a column containing similar values\n",
    "def fun_replace_colvalues(df, columnnull, column_2):\n",
    "    # Specify the column with null values,  the input the column with values you want to replace, then fill in the null values with values in the 2nd column\n",
    "    df[columnnull] = df[columnnull].fillna(df[column_2].fillna(method = 'ffill'))\n",
    "    return df"
   ]
  },
  {
   "cell_type": "code",
   "execution_count": 15,
   "metadata": {},
   "outputs": [
    {
     "ename": "ModuleNotFoundError",
     "evalue": "No module named 'functions'",
     "output_type": "error",
     "traceback": [
      "\u001b[0;31m---------------------------------------------------------------------------\u001b[0m",
      "\u001b[0;31mModuleNotFoundError\u001b[0m                       Traceback (most recent call last)",
      "\u001b[0;32m<ipython-input-15-01a49f1064bc>\u001b[0m in \u001b[0;36m<module>\u001b[0;34m\u001b[0m\n\u001b[0;32m----> 1\u001b[0;31m \u001b[0;32mimport\u001b[0m \u001b[0mfunctions\u001b[0m\u001b[0;34m\u001b[0m\u001b[0;34m\u001b[0m\u001b[0m\n\u001b[0m",
      "\u001b[0;31mModuleNotFoundError\u001b[0m: No module named 'functions'"
     ]
    }
   ],
   "source": [
    "import functions"
   ]
  },
  {
   "cell_type": "code",
   "execution_count": null,
   "metadata": {},
   "outputs": [],
   "source": []
  }
 ],
 "metadata": {
  "kernelspec": {
   "display_name": "learn-env",
   "language": "python",
   "name": "python3"
  },
  "language_info": {
   "codemirror_mode": {
    "name": "ipython",
    "version": 3
   },
   "file_extension": ".py",
   "mimetype": "text/x-python",
   "name": "python",
   "nbconvert_exporter": "python",
   "pygments_lexer": "ipython3",
   "version": "3.8.5"
  },
  "orig_nbformat": 4,
  "vscode": {
   "interpreter": {
    "hash": "4d1151697b68b4ec1e19719ed12edf19569ef0d5db0563e25a869f6eefb41f8c"
   }
  }
 },
 "nbformat": 4,
 "nbformat_minor": 2
}
